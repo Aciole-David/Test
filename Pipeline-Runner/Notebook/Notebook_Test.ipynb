{
 "cells": [
  {
   "cell_type": "markdown",
   "metadata": {},
   "source": [
    "# Download Workflows"
   ]
  },
  {
   "cell_type": "code",
   "execution_count": null,
   "metadata": {},
   "outputs": [
    {
     "name": "stdout",
     "output_type": "stream",
     "text": [
      "Checking nextflow-io/hello ...\n",
      " downloaded from https://github.com/nextflow-io/hello.git - revision: c9b0ec7286 [master]\n",
      "Checking cbcrg/ampa-nf ...\n",
      " Already-up-to-date - revision: fce8af9dcc [master]\n",
      "Checking cbcrg/mta-nf ...\n",
      " downloaded from https://github.com/cbcrg/mta-nf.git - revision: f550ac8f35 [master]\n",
      "Checking nextflow-io/rnaseq-nf ...\n",
      " downloaded from https://github.com/nextflow-io/rnaseq-nf.git - revision: 9740761258 [master]\n",
      "Checking nextflow-io/rnatoy ...\n",
      " downloaded from https://github.com/nextflow-io/rnatoy.git - revision: bfcee3841f [master]\n",
      "Checking evanfloden/tuxedo-nf ...\n"
     ]
    }
   ],
   "source": [
    "nextflow pull nextflow-io/hello\n",
    "nextflow pull cbcrg/ampa-nf\n",
    "nextflow pull cbcrg/mta-nf\n",
    "nextflow pull nextflow-io/rnaseq-nf\n",
    "nextflow pull nextflow-io/rnatoy\n",
    "nextflow pull evanfloden/tuxedo-nf"
   ]
  },
  {
   "cell_type": "markdown",
   "metadata": {},
   "source": [
    "# Execute Workflows"
   ]
  },
  {
   "cell_type": "code",
   "execution_count": null,
   "metadata": {},
   "outputs": [],
   "source": [
    "nextflow run nextflow-io/hello -with-docker\n",
    "nextflow run cbcrg/ampa-nf -with-docker\n",
    "nextflow run cbcrg/mta-nf -with-docker\n",
    "nextflow run nextflow-io/rnaseq-nf -with-docker\n",
    "nextflow run nextflow-io/rnatoy -with-docker\n",
    "nextflow run evanfloden/tuxedo-nf -with-docker"
   ]
  }
 ],
 "metadata": {
  "kernelspec": {
   "display_name": "Bash",
   "language": "bash",
   "name": "bash"
  },
  "language_info": {
   "codemirror_mode": "shell",
   "file_extension": ".sh",
   "mimetype": "text/x-sh",
   "name": "bash"
  }
 },
 "nbformat": 4,
 "nbformat_minor": 2
}
